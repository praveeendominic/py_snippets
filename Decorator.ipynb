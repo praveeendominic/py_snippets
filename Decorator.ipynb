{
  "nbformat": 4,
  "nbformat_minor": 0,
  "metadata": {
    "colab": {
      "provenance": []
    },
    "kernelspec": {
      "name": "python3",
      "display_name": "Python 3"
    },
    "language_info": {
      "name": "python"
    }
  },
  "cells": [
    {
      "cell_type": "code",
      "execution_count": 17,
      "metadata": {
        "id": "cGgKPSLiLTEn"
      },
      "outputs": [],
      "source": [
        "import time\n",
        "def square(num):\n",
        "  start=time.time()\n",
        "  print(\"Computing square\")\n",
        "  res= num**2\n",
        "  end=time.time()\n",
        "  print(f\"Computing took {(end-start)*1000} seconds for completion \")\n",
        "  return res\n",
        "\n",
        "\n",
        "def cube(num):\n",
        "  start=time.time()\n",
        "  print(\"Computing cube\")\n",
        "  res = num**3\n",
        "  end=time.time()\n",
        "  print(f\"Computing took {(end-start)*1000} seconds for completion \")\n",
        "  return res"
      ]
    },
    {
      "cell_type": "code",
      "source": [
        "square(99999999)"
      ],
      "metadata": {
        "colab": {
          "base_uri": "https://localhost:8080/"
        },
        "id": "qBmteXpiNQX6",
        "outputId": "7bed5b93-5efd-4d2d-fa74-9415ebc25d5b"
      },
      "execution_count": 18,
      "outputs": [
        {
          "output_type": "stream",
          "name": "stdout",
          "text": [
            "Computing square\n",
            "Computing took 1.2509822845458984 seconds for completionn \n"
          ]
        },
        {
          "output_type": "execute_result",
          "data": {
            "text/plain": [
              "9999999800000001"
            ]
          },
          "metadata": {},
          "execution_count": 18
        }
      ]
    },
    {
      "cell_type": "code",
      "source": [
        "cube(999999999)"
      ],
      "metadata": {
        "colab": {
          "base_uri": "https://localhost:8080/"
        },
        "id": "wwXA8VdwN23P",
        "outputId": "c2b0d382-d0d7-431d-edac-f2405de0e245"
      },
      "execution_count": 19,
      "outputs": [
        {
          "output_type": "stream",
          "name": "stdout",
          "text": [
            "Computing cube\n",
            "Computing took 0.0006496906280517578 seconds for completion \n"
          ]
        },
        {
          "output_type": "execute_result",
          "data": {
            "text/plain": [
              "999999997000000002999999999"
            ]
          },
          "metadata": {},
          "execution_count": 19
        }
      ]
    },
    {
      "cell_type": "code",
      "source": [
        "#but the above code is not efficient as it core logic is mixed with redundant time computation logic can be done more efficiently with decorators"
      ],
      "metadata": {
        "id": "NsOe7iN_O31q"
      },
      "execution_count": 20,
      "outputs": []
    },
    {
      "cell_type": "code",
      "source": [
        "# Using Decorators\n",
        "import time\n",
        "def custom_timeit(func):\n",
        "  def wrapper(*args,**kwargs):\n",
        "    start=time.time()\n",
        "    res=func(*args,**kwargs)\n",
        "    end=time.time()\n",
        "\n",
        "    print(f\"{func.__name__} took {(end-start)*1000} seconds for completion. RESULT is {res}\")\n",
        "\n",
        "  return wrapper\n",
        "\n",
        "@custom_timeit\n",
        "def square(num):\n",
        "  print(\"Computing square\")\n",
        "  res= num**2\n",
        "  return res\n",
        "\n",
        "@custom_timeit\n",
        "def cube(num):\n",
        "  print(\"Computing cube\")\n",
        "  res = num**3\n",
        "  return res"
      ],
      "metadata": {
        "id": "vMOwG7yoPISH"
      },
      "execution_count": 31,
      "outputs": []
    },
    {
      "cell_type": "code",
      "source": [
        "square(98989898)\n",
        "cube(98989898)"
      ],
      "metadata": {
        "colab": {
          "base_uri": "https://localhost:8080/"
        },
        "id": "fhXPowNFQuVU",
        "outputId": "2061639a-bb6f-45b8-85fd-9be0eb5e8039"
      },
      "execution_count": 33,
      "outputs": [
        {
          "output_type": "stream",
          "name": "stdout",
          "text": [
            "Computing square\n",
            "square took 1.1067390441894531 seconds for completion. RESULT is 9798999906050404\n",
            "Computing cube\n",
            "cube took 0.6251335144042969 seconds for completion. RESULT is 970002001201939074818792\n"
          ]
        }
      ]
    },
    {
      "cell_type": "code",
      "source": [],
      "metadata": {
        "id": "QO2ERXR1Qw2S"
      },
      "execution_count": null,
      "outputs": []
    }
  ]
}
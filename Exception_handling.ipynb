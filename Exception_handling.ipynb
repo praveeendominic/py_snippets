{
  "nbformat": 4,
  "nbformat_minor": 0,
  "metadata": {
    "colab": {
      "provenance": []
    },
    "kernelspec": {
      "name": "python3",
      "display_name": "Python 3"
    },
    "language_info": {
      "name": "python"
    }
  },
  "cells": [
    {
      "cell_type": "code",
      "execution_count": 2,
      "metadata": {
        "colab": {
          "base_uri": "https://localhost:8080/",
          "height": 372
        },
        "id": "cgpFOhQQUm2Z",
        "outputId": "760f3446-2cc2-4d92-f31c-38f1d0a3988d"
      },
      "outputs": [
        {
          "output_type": "stream",
          "name": "stdout",
          "text": [
            "10.0\n",
            "Program execution completed!\n"
          ]
        },
        {
          "output_type": "error",
          "ename": "ZeroDivisionError",
          "evalue": "ignored",
          "traceback": [
            "\u001b[0;31m---------------------------------------------------------------------------\u001b[0m",
            "\u001b[0;31mZeroDivisionError\u001b[0m                         Traceback (most recent call last)",
            "\u001b[0;32m<ipython-input-2-956f57026328>\u001b[0m in \u001b[0;36m<module>\u001b[0;34m\u001b[0m\n\u001b[1;32m      6\u001b[0m \u001b[0;34m\u001b[0m\u001b[0m\n\u001b[1;32m      7\u001b[0m \u001b[0mcompute_division\u001b[0m\u001b[0;34m(\u001b[0m\u001b[0;36m100\u001b[0m\u001b[0;34m,\u001b[0m\u001b[0;36m10\u001b[0m\u001b[0;34m)\u001b[0m\u001b[0;34m\u001b[0m\u001b[0;34m\u001b[0m\u001b[0m\n\u001b[0;32m----> 8\u001b[0;31m \u001b[0mcompute_division\u001b[0m\u001b[0;34m(\u001b[0m\u001b[0;36m100\u001b[0m\u001b[0;34m,\u001b[0m\u001b[0;36m0\u001b[0m\u001b[0;34m)\u001b[0m\u001b[0;34m\u001b[0m\u001b[0;34m\u001b[0m\u001b[0m\n\u001b[0m",
            "\u001b[0;32m<ipython-input-2-956f57026328>\u001b[0m in \u001b[0;36mcompute_division\u001b[0;34m(a, b)\u001b[0m\n\u001b[1;32m      1\u001b[0m \u001b[0;31m#Exception --> Conditions that the current application logic fails to handle and terminates the further execution\u001b[0m\u001b[0;34m\u001b[0m\u001b[0;34m\u001b[0m\u001b[0;34m\u001b[0m\u001b[0m\n\u001b[1;32m      2\u001b[0m \u001b[0;32mdef\u001b[0m \u001b[0mcompute_division\u001b[0m\u001b[0;34m(\u001b[0m\u001b[0ma\u001b[0m\u001b[0;34m,\u001b[0m\u001b[0mb\u001b[0m\u001b[0;34m)\u001b[0m\u001b[0;34m:\u001b[0m\u001b[0;34m\u001b[0m\u001b[0;34m\u001b[0m\u001b[0m\n\u001b[0;32m----> 3\u001b[0;31m     \u001b[0mres\u001b[0m\u001b[0;34m=\u001b[0m \u001b[0ma\u001b[0m\u001b[0;34m/\u001b[0m\u001b[0mb\u001b[0m\u001b[0;34m\u001b[0m\u001b[0;34m\u001b[0m\u001b[0m\n\u001b[0m\u001b[1;32m      4\u001b[0m     \u001b[0mprint\u001b[0m\u001b[0;34m(\u001b[0m\u001b[0mres\u001b[0m\u001b[0;34m)\u001b[0m\u001b[0;34m\u001b[0m\u001b[0;34m\u001b[0m\u001b[0m\n\u001b[1;32m      5\u001b[0m     \u001b[0mprint\u001b[0m\u001b[0;34m(\u001b[0m\u001b[0;34m\"Program execution completed!\"\u001b[0m\u001b[0;34m)\u001b[0m\u001b[0;34m\u001b[0m\u001b[0;34m\u001b[0m\u001b[0m\n",
            "\u001b[0;31mZeroDivisionError\u001b[0m: division by zero"
          ]
        }
      ],
      "source": [
        "#Exception --> Conditions that the current application logic fails to handle and terminates the further execution\n",
        "def compute_division(a,b):\n",
        "    res= a/b\n",
        "    print(res)\n",
        "    print(\"Program execution completed!\")\n",
        "\n",
        "compute_division(100,10)\n",
        "compute_division(100,0)"
      ]
    },
    {
      "cell_type": "code",
      "source": [
        "# Handling the above exception using Parent Exception class\n",
        "def compute_division(a,b):\n",
        "  try:\n",
        "    res= a/b\n",
        "    print(res)\n",
        "    print(\"Program execution completed!\")\n",
        "  except Exception as e:\n",
        "    print(f\"Program execution terminated due to {e}\")\n",
        "\n",
        "compute_division(100,10)\n",
        "compute_division(100,0)"
      ],
      "metadata": {
        "colab": {
          "base_uri": "https://localhost:8080/"
        },
        "id": "jSKrJrgOVWRq",
        "outputId": "006d2179-b724-4354-a9ec-aff9b9aff74b"
      },
      "execution_count": 8,
      "outputs": [
        {
          "output_type": "stream",
          "name": "stdout",
          "text": [
            "10.0\n",
            "Program execution completed!\n",
            "Program execution terminated due to division by zero\n"
          ]
        }
      ]
    },
    {
      "cell_type": "code",
      "source": [
        "#Handling the exceptionusing the specific exception class\n",
        "def compute_division(a,b):\n",
        "  try:\n",
        "    res= a/b\n",
        "    print(res)\n",
        "    print(\"Program execution completed!\")\n",
        "  except ZeroDivisionError as e:\n",
        "    print(f\"Program execution terminated due to {e}\")\n",
        "\n",
        "compute_division(100,10)\n",
        "compute_division(100,0)"
      ],
      "metadata": {
        "colab": {
          "base_uri": "https://localhost:8080/"
        },
        "id": "AkC8p5VoVf31",
        "outputId": "8221007a-baa1-4694-a3d3-d950f531c522"
      },
      "execution_count": 10,
      "outputs": [
        {
          "output_type": "stream",
          "name": "stdout",
          "text": [
            "10.0\n",
            "Program execution completed!\n",
            "Program execution terminated due to division by zero\n"
          ]
        }
      ]
    },
    {
      "cell_type": "code",
      "source": [
        "#Else part gets executed only if none of the exceptions are raise\n",
        "def compute_division(a,b):\n",
        "  try:\n",
        "    res= a/b\n",
        "    print(res)\n",
        "  except ZeroDivisionError as e:\n",
        "    print(f\"Program execution terminated due to {e}\")\n",
        "  else:\n",
        "    print(\"No exception!!!!!\")\n",
        "\n",
        "compute_division(100,10)\n",
        "compute_division(100,0)"
      ],
      "metadata": {
        "colab": {
          "base_uri": "https://localhost:8080/"
        },
        "id": "NsDuww95Wn3b",
        "outputId": "7a787fa3-bb4c-47ca-b836-062cde46701e"
      },
      "execution_count": 16,
      "outputs": [
        {
          "output_type": "stream",
          "name": "stdout",
          "text": [
            "10.0\n",
            "No exception!!!!!\n",
            "Program execution terminated due to division by zero\n"
          ]
        }
      ]
    },
    {
      "cell_type": "code",
      "source": [
        "#Finally block gets executed in all cases, irrespective of the exeception status\n",
        "def compute_division(a,b):\n",
        "  try:\n",
        "    res= a/b\n",
        "    print(res)\n",
        "  except ZeroDivisionError as e:\n",
        "    print(f\"Program execution terminated due to {e}\")\n",
        "  else:\n",
        "    print(\"No exception!!!!!\")\n",
        "  finally:\n",
        "    print(\"FINALLY BLOCK!Program execution is either completed/ terminated\")\n",
        "\n",
        "compute_division(100,10)\n",
        "compute_division(100,0)"
      ],
      "metadata": {
        "colab": {
          "base_uri": "https://localhost:8080/"
        },
        "id": "d2AddhWOXDOs",
        "outputId": "c4a16aeb-dc05-44d8-d808-4c42e732b966"
      },
      "execution_count": 15,
      "outputs": [
        {
          "output_type": "stream",
          "name": "stdout",
          "text": [
            "10.0\n",
            "No exception!!!!!\n",
            "FINALLY BLOCK!Program execution is either completed/ terminated\n",
            "Program execution terminated due to division by zero\n",
            "FINALLY BLOCK!Program execution is either completed/ terminated\n"
          ]
        }
      ]
    },
    {
      "cell_type": "code",
      "source": [
        "#Instead of program raising the exception, we can proactively analyze and raise/handle exception through our logic\n",
        "def compute_division(a,b):\n",
        "  try:\n",
        "    res= a/b\n",
        "    if b==0:\n",
        "      raise ZeroDivisionError\n",
        "    print(res)\n",
        "  except ZeroDivisionError as e:\n",
        "    print(f\"Program execution terminated due to {e}\")\n",
        "  else:\n",
        "    print(\"No exception!!!!!\")\n",
        "  finally:\n",
        "    print(\"FINALLY BLOCK!Program execution is either completed/ terminated\")\n",
        "\n",
        "compute_division(100,10)\n",
        "compute_division(100,0)"
      ],
      "metadata": {
        "colab": {
          "base_uri": "https://localhost:8080/"
        },
        "id": "MizO1a0QXoCh",
        "outputId": "e9a69527-dc52-4840-81a2-ccf249bfb2e6"
      },
      "execution_count": 17,
      "outputs": [
        {
          "output_type": "stream",
          "name": "stdout",
          "text": [
            "10.0\n",
            "No exception!!!!!\n",
            "FINALLY BLOCK!Program execution is either completed/ terminated\n",
            "Program execution terminated due to division by zero\n",
            "FINALLY BLOCK!Program execution is either completed/ terminated\n"
          ]
        }
      ]
    },
    {
      "cell_type": "code",
      "source": [
        "# Custom exception class\n",
        "\n",
        "class Myexception(Exception):\n",
        "  def __init__(self, num):\n",
        "    self.num = num\n",
        "  \n",
        "  def raise_myexception(self):\n",
        "    msg=''\n",
        "    if self.num%2==0:\n",
        "      msg=\"Program execution can progress\"\n",
        "    else:\n",
        "      msg=\"Program execution can terminated\"\n",
        "    \n",
        "    return msg\n",
        "      \n",
        "\n",
        "def compute_division(a,b):\n",
        "  try:\n",
        "    res= a/b\n",
        "    raise Myexception(a)\n",
        "    if b==0:\n",
        "      raise ZeroDivisionError\n",
        "    print(res)\n",
        "  except ZeroDivisionError as e:\n",
        "    print(f\"Program execution terminated due to {type(e).__name__}\")\n",
        "  except Myexception as e1:\n",
        "    print(f\"Program execution terminated due to {type(e1).__name__}\")\n",
        "  else:\n",
        "    print(\"No exception!!!!!\")\n",
        "  finally:\n",
        "    print(\"FINALLY BLOCK!Program execution is either completed/ terminated\")\n",
        "\n",
        "compute_division(100,9)\n",
        "# compute_division(100,0)"
      ],
      "metadata": {
        "colab": {
          "base_uri": "https://localhost:8080/"
        },
        "id": "-1EOFOyPYOTg",
        "outputId": "2bc999ea-0032-4975-cfdb-a5d50a366b7b"
      },
      "execution_count": 33,
      "outputs": [
        {
          "output_type": "stream",
          "name": "stdout",
          "text": [
            "Program execution terminated due to Myexception\n",
            "FINALLY BLOCK!Program execution is either completed/ terminated\n"
          ]
        }
      ]
    },
    {
      "cell_type": "code",
      "source": [],
      "metadata": {
        "id": "Ymz5-llaYxHC"
      },
      "execution_count": null,
      "outputs": []
    }
  ]
}
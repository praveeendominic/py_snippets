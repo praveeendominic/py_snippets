{
 "cells": [
  {
   "cell_type": "code",
   "execution_count": 9,
   "metadata": {},
   "outputs": [
    {
     "name": "stdout",
     "output_type": "stream",
     "text": [
      "[4, 9, 16, 25, 36, 49]\n",
      "[2, 4, 6]\n"
     ]
    },
    {
     "data": {
      "text/plain": [
       "['EVEN', 'ODD', 'EVEN', 'ODD', 'EVEN', 'ODD']"
      ]
     },
     "execution_count": 9,
     "metadata": {},
     "output_type": "execute_result"
    }
   ],
   "source": [
    "#LIST COMPREHENSION\n",
    "l = [2,3,4,5,6,7]\n",
    "\n",
    "#Find square of all numbers in the list\n",
    "print([i*i for i in l])\n",
    "\n",
    "#print only even numbers\n",
    "print([i for i in l if i%2==0]) #multiple conditions can be specified\n",
    "\n",
    "#print even or odd\n",
    "['EVEN' if i%2==0 else \"ODD\" for i in l]"
   ]
  },
  {
   "cell_type": "code",
   "execution_count": 15,
   "metadata": {},
   "outputs": [
    {
     "name": "stdout",
     "output_type": "stream",
     "text": [
      "{4, 36, 9, 16, 49, 25}\n",
      "<class 'set'>\n",
      "{2, 4, 6}\n"
     ]
    },
    {
     "data": {
      "text/plain": [
       "{'EVEN', 'ODD'}"
      ]
     },
     "execution_count": 15,
     "metadata": {},
     "output_type": "execute_result"
    }
   ],
   "source": [
    "#SET COMPREHENSION --> unordered collection of unique items\n",
    "l = [2,3,4,5,6,7]\n",
    "s=set(l)\n",
    "\n",
    "#Find square of all numbers in the list\n",
    "print({i*i for i in s})\n",
    "print(type(s))\n",
    "\n",
    "#print only even numbers\n",
    "print({i for i in s if i%2==0}) #multiple conditions can be specified\n",
    "\n",
    "#print even or odd\n",
    "{'EVEN' if i%2==0 else \"ODD\" for i in s}"
   ]
  },
  {
   "cell_type": "code",
   "execution_count": 16,
   "metadata": {},
   "outputs": [
    {
     "data": {
      "text/plain": [
       "{'Canada': 'Ottawa', 'India': 'New Delhi', 'USA': 'Washington'}"
      ]
     },
     "execution_count": 16,
     "metadata": {},
     "output_type": "execute_result"
    }
   ],
   "source": [
    "# DICTIONARY COMPREHENSION\n",
    "\n",
    "country=['Canada', 'India', 'USA']\n",
    "captial = ['Ottawa','New Delhi','Washington']\n",
    "\n",
    "{country:capital for country, capital in zip(country, captial)}\n"
   ]
  },
  {
   "cell_type": "code",
   "execution_count": null,
   "metadata": {},
   "outputs": [],
   "source": []
  }
 ],
 "metadata": {
  "kernelspec": {
   "display_name": "Python 3.8.1 ('justo_nudity')",
   "language": "python",
   "name": "python3"
  },
  "language_info": {
   "codemirror_mode": {
    "name": "ipython",
    "version": 3
   },
   "file_extension": ".py",
   "mimetype": "text/x-python",
   "name": "python",
   "nbconvert_exporter": "python",
   "pygments_lexer": "ipython3",
   "version": "3.8.1"
  },
  "orig_nbformat": 4,
  "vscode": {
   "interpreter": {
    "hash": "3f923c794384ace7aaddee063730d22265559d6ae351d21e40df441e458f99f1"
   }
  }
 },
 "nbformat": 4,
 "nbformat_minor": 2
}

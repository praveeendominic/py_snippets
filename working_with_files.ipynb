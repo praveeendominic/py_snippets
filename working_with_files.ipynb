{
  "nbformat": 4,
  "nbformat_minor": 0,
  "metadata": {
    "colab": {
      "provenance": []
    },
    "kernelspec": {
      "name": "python3",
      "display_name": "Python 3"
    },
    "language_info": {
      "name": "python"
    }
  },
  "cells": [
    {
      "cell_type": "code",
      "execution_count": 2,
      "metadata": {
        "colab": {
          "base_uri": "https://localhost:8080/"
        },
        "id": "m_TK-iDcok1u",
        "outputId": "caf5f326-41ea-4b0b-b6e9-0e08b8d7fe36"
      },
      "outputs": [
        {
          "output_type": "stream",
          "name": "stdout",
          "text": [
            "/content\n"
          ]
        }
      ],
      "source": [
        "!pwd"
      ]
    },
    {
      "cell_type": "code",
      "source": [
        "!ls"
      ],
      "metadata": {
        "colab": {
          "base_uri": "https://localhost:8080/"
        },
        "id": "gp2dd3SApRTB",
        "outputId": "699aa85a-cba8-407b-939d-b2a8f51f1567"
      },
      "execution_count": 3,
      "outputs": [
        {
          "output_type": "stream",
          "name": "stdout",
          "text": [
            "drive  sample_data\n"
          ]
        }
      ]
    },
    {
      "cell_type": "code",
      "source": [
        "!cd /content/drive/MyDrive/Deep learning/py_scripts"
      ],
      "metadata": {
        "colab": {
          "base_uri": "https://localhost:8080/"
        },
        "id": "uHPc1H8ZpVZa",
        "outputId": "78cb52c0-f60e-438a-dab5-586e9c4f2123"
      },
      "execution_count": 7,
      "outputs": [
        {
          "output_type": "stream",
          "name": "stdout",
          "text": [
            "/bin/bash: line 0: cd: too many arguments\n"
          ]
        }
      ]
    },
    {
      "cell_type": "code",
      "source": [
        "!ls"
      ],
      "metadata": {
        "colab": {
          "base_uri": "https://localhost:8080/"
        },
        "id": "ryOz8NvLpfK4",
        "outputId": "f14c6394-2f1d-462e-d47a-87258ab74dff"
      },
      "execution_count": 8,
      "outputs": [
        {
          "output_type": "stream",
          "name": "stdout",
          "text": [
            " quotes.txt  'working with files.ipynb'\n"
          ]
        }
      ]
    },
    {
      "cell_type": "code",
      "source": [
        "#Read file --> read all content of the file specified in character stream\n",
        "f = open('quotes.txt','r')\n",
        "print(f.read())\n",
        "f.close()"
      ],
      "metadata": {
        "colab": {
          "base_uri": "https://localhost:8080/"
        },
        "id": "sn_x6FvQpv_7",
        "outputId": "85f5886c-38ef-4e49-c604-273567398685"
      },
      "execution_count": 11,
      "outputs": [
        {
          "output_type": "stream",
          "name": "stdout",
          "text": [
            "When you reach the end of your rope, tie a knot in it and hang on. -Franklin D. Roosevelt\n",
            "Always remember that you are absolutely unique. Just like everyone else. -Margaret Mead\n",
            "Don't judge each day by the harvest you reap but by the seeds that you plant. -Robert Louis Stevenson\n"
          ]
        }
      ]
    },
    {
      "cell_type": "code",
      "source": [
        "#Read line by line\n",
        "f = open('quotes.txt','r')\n",
        "print(f.readline()) #reads till the 1st new line char/EOF is captured\n",
        "f.close()"
      ],
      "metadata": {
        "colab": {
          "base_uri": "https://localhost:8080/"
        },
        "id": "uCPIZoo4p7Zt",
        "outputId": "0efa39c1-fb9a-4f25-dbf4-29d8100ef4cd"
      },
      "execution_count": 14,
      "outputs": [
        {
          "output_type": "stream",
          "name": "stdout",
          "text": [
            "When you reach the end of your rope, tie a knot in it and hang on. -Franklin D. Roosevelt\n",
            "\n"
          ]
        }
      ]
    },
    {
      "cell_type": "code",
      "source": [
        "#Read line by line \n",
        "f = open('quotes.txt','r')\n",
        "for line in f.readlines():\n",
        "  print(line)\n",
        "f.close()"
      ],
      "metadata": {
        "colab": {
          "base_uri": "https://localhost:8080/"
        },
        "id": "EpBLHTk4quak",
        "outputId": "2b2e9ae8-ee17-457b-fa71-d2b58e1c35c0"
      },
      "execution_count": 16,
      "outputs": [
        {
          "output_type": "stream",
          "name": "stdout",
          "text": [
            "When you reach the end of your rope, tie a knot in it and hang on. -Franklin D. Roosevelt\n",
            "\n",
            "Always remember that you are absolutely unique. Just like everyone else. -Margaret Mead\n",
            "\n",
            "Don't judge each day by the harvest you reap but by the seeds that you plant. -Robert Louis Stevenson\n"
          ]
        }
      ]
    },
    {
      "cell_type": "code",
      "source": [
        "#Read content from quotes files, capitalize the content and create a new file with the new content\n",
        "def read(path):\n",
        "  f_r = open(path,'r')\n",
        "  st=f_r.read()\n",
        "  f_r.close()\n",
        "  return st\n",
        " \n",
        "\n",
        "def write(path):\n",
        "  s=read(path)\n",
        "  f_w = open('quotes_upper.txt','w')\n",
        "  f_w.write(str(s).upper())\n",
        "  f_w.close()\n",
        "\n",
        "\n",
        "print(f\"READ CONTENT: {read('quotes.txt')}\")\n",
        "write('quotes.txt')\n",
        "print()\n",
        "print(f\"READ CONTENT: {read('quotes_upper.txt')}\")"
      ],
      "metadata": {
        "colab": {
          "base_uri": "https://localhost:8080/"
        },
        "id": "FBhouWFDrJYg",
        "outputId": "15298d1d-15ce-417b-a1c3-4a616e89310a"
      },
      "execution_count": 29,
      "outputs": [
        {
          "output_type": "stream",
          "name": "stdout",
          "text": [
            "READ CONTENT: When you reach the end of your rope, tie a knot in it and hang on. -Franklin D. Roosevelt\n",
            "Always remember that you are absolutely unique. Just like everyone else. -Margaret Mead\n",
            "Don't judge each day by the harvest you reap but by the seeds that you plant. -Robert Louis Stevenson\n",
            "\n",
            "READ CONTENT: WHEN YOU REACH THE END OF YOUR ROPE, TIE A KNOT IN IT AND HANG ON. -FRANKLIN D. ROOSEVELT\n",
            "ALWAYS REMEMBER THAT YOU ARE ABSOLUTELY UNIQUE. JUST LIKE EVERYONE ELSE. -MARGARET MEAD\n",
            "DON'T JUDGE EACH DAY BY THE HARVEST YOU REAP BUT BY THE SEEDS THAT YOU PLANT. -ROBERT LOUIS STEVENSON\n"
          ]
        }
      ]
    },
    {
      "cell_type": "code",
      "source": [
        "#POPULAR FILE MODES\n",
        "#*******************\n",
        "#r --> opens file in read only mode. Error is thrown if file is not found\n",
        "#w --> open file in write only mode. New file is created if the file specified is not present. Also, overwrites the content every time you write the file\n",
        "#a --> Instead of overwrting the existing file, it appends the content to the file\n",
        "#r+ --> opens file in both read and write mode\n",
        "#w+ --> opens file in both read and write mode. creates the file if not present\n"
      ],
      "metadata": {
        "id": "zNcLTrx5s7KF"
      },
      "execution_count": null,
      "outputs": []
    },
    {
      "cell_type": "code",
      "source": [],
      "metadata": {
        "id": "mBTw9GYvv2IF"
      },
      "execution_count": null,
      "outputs": []
    }
  ]
}
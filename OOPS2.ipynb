{
 "cells": [
  {
   "cell_type": "code",
   "execution_count": 2,
   "id": "b7584eae",
   "metadata": {},
   "outputs": [
    {
     "data": {
      "text/plain": [
       "'\\n@author: Praveen Dominic\\n'"
      ]
     },
     "execution_count": 2,
     "metadata": {},
     "output_type": "execute_result"
    }
   ],
   "source": [
    "\"\"\"\n",
    "@author: Praveen Dominic\n",
    "\"\"\"\n",
    "\n",
    "# ************ATTRIBUTES*******************************************\n",
    "# Class variable --> class/static var is assigned with a memory only once during the creation of 1st object\n",
    "#                --> Can be access by all the objects\n",
    "# Instance variable --> Sepearte Memory gets allocated for each object created\n",
    "#                   --> Can be accessed only by their respective objects\n",
    "\n",
    "\n",
    "# *************METHOD***********************************************\n",
    "#Instance method --> Used to access the respective instance variables. \n",
    "#                --> Has self as the 1st param\n",
    "#Class method --> It is bound to the class in which it is defined. Stores and manipulates current state of the class and also that of instances\n",
    "#             --> Has cls as the 1st param.\n",
    "#               -->Used as a factory method\n",
    "#               -->@classmethod decorator is used\n",
    "#Static method --> It is also bound to the class but doesnt have ability to store/manipulate currect state of the class. \n",
    "#              -->No prams except the regular ones\n",
    "#              -->@staticmethod decorator is used"
   ]
  },
  {
   "cell_type": "code",
   "execution_count": 65,
   "id": "8c8be3b8",
   "metadata": {},
   "outputs": [],
   "source": [
    "class BDA:\n",
    "    no_of_students=0\n",
    "    roll_no=0\n",
    "    def __init__(self,name,age):\n",
    "        self.name=name\n",
    "        self.age=age\n",
    "        self.roll_no=BDA.utlil_fn(name)\n",
    "        BDA.no_of_students+=1\n",
    "    \n",
    "    \n",
    "    def add_student(self):\n",
    "        print(\"Student added successfully\")\n",
    "        print(f\"Student name {self.name}, age:{self.age}, rollno:{self.roll_no}\")\n",
    "        \n",
    "    @classmethod\n",
    "    def printt(cls):\n",
    "        return cls.no_of_students\n",
    "\n",
    "   \n",
    "    @staticmethod\n",
    "    def utlil_fn(nm):\n",
    "        BDA.roll_no +=1\n",
    "        return nm +str(BDA.roll_no)\n",
    "#         print(BDA.roll_no)\n",
    "        \n",
    "        "
   ]
  },
  {
   "cell_type": "code",
   "execution_count": 66,
   "id": "107ed1fb",
   "metadata": {},
   "outputs": [
    {
     "name": "stdout",
     "output_type": "stream",
     "text": [
      "Student added successfully\n",
      "Student name domu, age:31, rollno:domu1\n",
      "Student added successfully\n",
      "Student name chris, age:29, rollno:chris2\n",
      "No of students added so far:2\n"
     ]
    }
   ],
   "source": [
    "stu1=BDA('domu',31)\n",
    "stu1.add_student()\n",
    "\n",
    "stu2=BDA('chris',29)\n",
    "stu2.add_student()\n",
    "\n",
    "print(f\"No of students added so far:{BDA.printt()}\")"
   ]
  },
  {
   "cell_type": "code",
   "execution_count": 67,
   "id": "3b043a8f",
   "metadata": {},
   "outputs": [],
   "source": [
    "BDA.printt() #accessing methods with class\n",
    "BDA.no_of_students=99 \n",
    "stu1.no_of_students=1000\n",
    "stu2.no_of_students=2000"
   ]
  },
  {
   "cell_type": "code",
   "execution_count": 68,
   "id": "3f355e86",
   "metadata": {},
   "outputs": [
    {
     "data": {
      "text/plain": [
       "(99, 99, 99)"
      ]
     },
     "execution_count": 68,
     "metadata": {},
     "output_type": "execute_result"
    }
   ],
   "source": [
    "BDA.printt(),stu1.printt(), stu2.printt()"
   ]
  },
  {
   "cell_type": "code",
   "execution_count": 58,
   "id": "5015b073",
   "metadata": {},
   "outputs": [
    {
     "data": {
      "text/plain": [
       "(11, 99)"
      ]
     },
     "execution_count": 58,
     "metadata": {},
     "output_type": "execute_result"
    }
   ],
   "source": [
    "stu1.no_of_students=11\n",
    "stu1.no_of_students, BDA.no_of_students"
   ]
  },
  {
   "cell_type": "code",
   "execution_count": 62,
   "id": "2efab18b",
   "metadata": {},
   "outputs": [
    {
     "name": "stdout",
     "output_type": "stream",
     "text": [
      "1\n"
     ]
    }
   ],
   "source": [
    "BDA.utlil_fn()"
   ]
  },
  {
   "cell_type": "code",
   "execution_count": null,
   "id": "e8a4d6b8",
   "metadata": {},
   "outputs": [],
   "source": []
  }
 ],
 "metadata": {
  "kernelspec": {
   "display_name": "Python 3 (ipykernel)",
   "language": "python",
   "name": "python3"
  },
  "language_info": {
   "codemirror_mode": {
    "name": "ipython",
    "version": 3
   },
   "file_extension": ".py",
   "mimetype": "text/x-python",
   "name": "python",
   "nbconvert_exporter": "python",
   "pygments_lexer": "ipython3",
   "version": "3.9.12"
  }
 },
 "nbformat": 4,
 "nbformat_minor": 5
}

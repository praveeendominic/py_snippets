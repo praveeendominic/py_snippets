{
 "cells": [
  {
   "cell_type": "code",
   "execution_count": 1,
   "id": "fbca8c5d",
   "metadata": {},
   "outputs": [
    {
     "data": {
      "text/plain": [
       "'\\nauthor: Praveen Dominic\\n'"
      ]
     },
     "execution_count": 1,
     "metadata": {},
     "output_type": "execute_result"
    }
   ],
   "source": [
    "\"\"\"\n",
    "author: Praveen Dominic\n",
    "\"\"\""
   ]
  },
  {
   "cell_type": "code",
   "execution_count": 2,
   "id": "eb5b5a40",
   "metadata": {},
   "outputs": [],
   "source": [
    "# Fns can be nested. Fns can also return fn"
   ]
  },
  {
   "cell_type": "code",
   "execution_count": 5,
   "id": "935083ba",
   "metadata": {},
   "outputs": [
    {
     "data": {
      "text/plain": [
       "'HELLO DOMU'"
      ]
     },
     "execution_count": 5,
     "metadata": {},
     "output_type": "execute_result"
    }
   ],
   "source": [
    "def fn2(fn2_arg):\n",
    "    st=fn2_arg.upper()\n",
    "\n",
    "    def fn3(st):\n",
    "        return \"HELLO \"+ st\n",
    "    \n",
    "    return fn3(st)\n",
    "\n",
    "def fn1(fn1_arg):\n",
    "    return fn1_arg\n",
    "\n",
    "\n",
    "fn2(fn1(\"Domu\"))"
   ]
  },
  {
   "cell_type": "code",
   "execution_count": 6,
   "id": "85b09d81",
   "metadata": {},
   "outputs": [],
   "source": [
    "# Lets now implement the same using Decorators"
   ]
  },
  {
   "cell_type": "code",
   "execution_count": 12,
   "id": "9ec2540b",
   "metadata": {},
   "outputs": [
    {
     "data": {
      "text/plain": [
       "'HELLO DOM'"
      ]
     },
     "execution_count": 12,
     "metadata": {},
     "output_type": "execute_result"
    }
   ],
   "source": [
    "def fn2(fn):\n",
    "#     st=fn(arg)\n",
    "    def fn3(arg):\n",
    "        return \"HELLO \"+ fn(arg).upper()\n",
    "    \n",
    "    return fn3\n",
    "    \n",
    "@fn2\n",
    "def fn1(fn1_arg):\n",
    "    return fn1_arg\n",
    "\n",
    "fn1(\"dom\")"
   ]
  },
  {
   "cell_type": "code",
   "execution_count": null,
   "id": "fe06686b",
   "metadata": {},
   "outputs": [],
   "source": []
  }
 ],
 "metadata": {
  "kernelspec": {
   "display_name": "Python 3 (ipykernel)",
   "language": "python",
   "name": "python3"
  },
  "language_info": {
   "codemirror_mode": {
    "name": "ipython",
    "version": 3
   },
   "file_extension": ".py",
   "mimetype": "text/x-python",
   "name": "python",
   "nbconvert_exporter": "python",
   "pygments_lexer": "ipython3",
   "version": "3.9.12"
  }
 },
 "nbformat": 4,
 "nbformat_minor": 5
}

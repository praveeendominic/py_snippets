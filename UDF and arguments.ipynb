{
 "cells": [
  {
   "cell_type": "code",
   "execution_count": 1,
   "id": "157bd0ec",
   "metadata": {},
   "outputs": [
    {
     "name": "stdout",
     "output_type": "stream",
     "text": [
      "Hi\n"
     ]
    }
   ],
   "source": [
    "def fn1():\n",
    "    print(\"Hi\")\n",
    "\n",
    "fn1()"
   ]
  },
  {
   "cell_type": "code",
   "execution_count": 7,
   "id": "28f8feac",
   "metadata": {},
   "outputs": [
    {
     "name": "stdout",
     "output_type": "stream",
     "text": [
      "3\n",
      "None\n",
      "300\n",
      "None\n"
     ]
    }
   ],
   "source": [
    "def fn1(a=1,b=2):\n",
    "    print(a+b)\n",
    "    return \n",
    "\n",
    "print(fn1()) #Default args ll be printed\n",
    "print(fn1(100,200)) #args passed will be printed"
   ]
  },
  {
   "cell_type": "code",
   "execution_count": 11,
   "id": "a7d81347",
   "metadata": {},
   "outputs": [
    {
     "name": "stdout",
     "output_type": "stream",
     "text": [
      "Sum is 3 and multiplied result is 2\n"
     ]
    }
   ],
   "source": [
    "def fn1(a=1,b=2):\n",
    "    return (a+b, a*b) #multiple values can be returned in the form of tuple\n",
    "\n",
    "fn1()\n",
    "sum,mul=fn1()\n",
    "print(f\"Sum is {sum} and multiplied result is {mul}\")"
   ]
  },
  {
   "cell_type": "code",
   "execution_count": 15,
   "id": "56018db1",
   "metadata": {},
   "outputs": [
    {
     "data": {
      "text/plain": [
       "(30, 200)"
      ]
     },
     "execution_count": 15,
     "metadata": {},
     "output_type": "execute_result"
    }
   ],
   "source": [
    "def fn1(a=1,b=2):\n",
    "    return (a+b, a*b)\n",
    "\n",
    "fn1(a=10,b=20) #keyword based args\n",
    "fn1(10,20) #positional based args"
   ]
  },
  {
   "cell_type": "code",
   "execution_count": 25,
   "id": "ca5f7c77",
   "metadata": {},
   "outputs": [
    {
     "name": "stdout",
     "output_type": "stream",
     "text": [
      "99\n"
     ]
    },
    {
     "ename": "NameError",
     "evalue": "name 'y1' is not defined",
     "output_type": "error",
     "traceback": [
      "\u001b[1;31m---------------------------------------------------------------------------\u001b[0m",
      "\u001b[1;31mNameError\u001b[0m                                 Traceback (most recent call last)",
      "Input \u001b[1;32mIn [25]\u001b[0m, in \u001b[0;36m<cell line: 8>\u001b[1;34m()\u001b[0m\n\u001b[0;32m      6\u001b[0m fn1()\n\u001b[0;32m      7\u001b[0m \u001b[38;5;28mprint\u001b[39m(x) \u001b[38;5;66;03m#global variable is accessible in the entire pgm\u001b[39;00m\n\u001b[1;32m----> 8\u001b[0m \u001b[38;5;28mprint\u001b[39m(\u001b[43my1\u001b[49m)\n",
      "\u001b[1;31mNameError\u001b[0m: name 'y1' is not defined"
     ]
    }
   ],
   "source": [
    "x=99\n",
    "def fn1(a=1,b=2):\n",
    "    y1=10 #local variable\n",
    "    return (a+b, a*b)\n",
    "\n",
    "fn1()\n",
    "print(x) #global variable is accessible in the entire pgm\n",
    "print(y1) #This throws an error as the scope is limited to the method in which it is defined\n"
   ]
  },
  {
   "cell_type": "code",
   "execution_count": 26,
   "id": "0848a525",
   "metadata": {},
   "outputs": [
    {
     "name": "stdout",
     "output_type": "stream",
     "text": [
      "99\n",
      "10\n"
     ]
    }
   ],
   "source": [
    "x=99\n",
    "def fn1(a=1,b=2):\n",
    "    global y  #Converts local variable into a global variable\n",
    "    y=10 #local variable\n",
    "    return (a+b, a*b)\n",
    "\n",
    "fn1()\n",
    "print(x)\n",
    "print(y)"
   ]
  },
  {
   "cell_type": "code",
   "execution_count": 51,
   "id": "59b43c63",
   "metadata": {},
   "outputs": [
    {
     "name": "stdout",
     "output_type": "stream",
     "text": [
      "10\n",
      "(999, 9999)\n"
     ]
    }
   ],
   "source": [
    "#(*args) #Non-keyworded variable length arg\n",
    "\n",
    "def fn1(a=1,*b):\n",
    "    print(a)\n",
    "    print(b)\n",
    "\n",
    "\n",
    "fn1(10,999,9999)"
   ]
  },
  {
   "cell_type": "code",
   "execution_count": 52,
   "id": "22faaf84",
   "metadata": {},
   "outputs": [
    {
     "name": "stdout",
     "output_type": "stream",
     "text": [
      "7\n",
      "{'b1': 10, 'b2': 20, 'b3': 30}\n"
     ]
    }
   ],
   "source": [
    "# %(**kwargs) Keyworded variable lenght arg\n",
    "def fn1(a=1,**b):\n",
    "    print(a)\n",
    "    print(b)\n",
    "\n",
    "fn1(a=7, b1=10, b2=20, b3=30)"
   ]
  },
  {
   "cell_type": "code",
   "execution_count": null,
   "id": "d2c031ce",
   "metadata": {},
   "outputs": [],
   "source": []
  }
 ],
 "metadata": {
  "kernelspec": {
   "display_name": "Python 3 (ipykernel)",
   "language": "python",
   "name": "python3"
  },
  "language_info": {
   "codemirror_mode": {
    "name": "ipython",
    "version": 3
   },
   "file_extension": ".py",
   "mimetype": "text/x-python",
   "name": "python",
   "nbconvert_exporter": "python",
   "pygments_lexer": "ipython3",
   "version": "3.9.12"
  }
 },
 "nbformat": 4,
 "nbformat_minor": 5
}

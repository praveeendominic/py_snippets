{
 "cells": [
  {
   "cell_type": "code",
   "execution_count": null,
   "id": "964836dd",
   "metadata": {},
   "outputs": [],
   "source": [
    "# 1. Class and object creation"
   ]
  },
  {
   "cell_type": "code",
   "execution_count": 2,
   "id": "d2efa495",
   "metadata": {},
   "outputs": [],
   "source": [
    "# 2. ATTRIBUTES\n",
    "#Instance attr\n",
    "#Class attr\n",
    "\n",
    "# 3. METHODS\n",
    "#Instance method\n",
    "#class method\n",
    "#Static method"
   ]
  },
  {
   "cell_type": "code",
   "execution_count": 3,
   "id": "5686f891",
   "metadata": {},
   "outputs": [
    {
     "name": "stdout",
     "output_type": "stream",
     "text": [
      "Object created!\n"
     ]
    }
   ],
   "source": [
    "# A class with just a constructor defined\n",
    "class mse:\n",
    "    def __init__(self):\n",
    "        print(\"Object created!\")\n",
    "\n",
    "obj1=mse()"
   ]
  },
  {
   "cell_type": "code",
   "execution_count": 7,
   "id": "cad6a8c4",
   "metadata": {},
   "outputs": [],
   "source": [
    "#Empty class\n",
    "class mse:\n",
    "    pass\n",
    "\n",
    "obj1=mse()"
   ]
  },
  {
   "cell_type": "code",
   "execution_count": 16,
   "id": "f76055bf",
   "metadata": {},
   "outputs": [
    {
     "name": "stdout",
     "output_type": "stream",
     "text": [
      "Name is dominic and age is 30\n",
      "Name is Francis and age is 26\n"
     ]
    }
   ],
   "source": [
    "#Instance attributes and Instance method creation | accessing the instance attributes using the instance method\n",
    "class mse:\n",
    "    def __init__(self,name, age):\n",
    "        self.name = name\n",
    "        self.age = age\n",
    "    \n",
    "    def disp(self):\n",
    "        print(f\"Name is {self.name} and age is {self.age}\")\n",
    "        \n",
    "obj1=mse(name=\"dominic\", age=30)\n",
    "obj1. disp()\n",
    "\n",
    "obj2=mse(name=\"Francis\", age=26)\n",
    "obj2.disp()"
   ]
  },
  {
   "cell_type": "code",
   "execution_count": 36,
   "id": "0129f161",
   "metadata": {},
   "outputs": [
    {
     "name": "stdout",
     "output_type": "stream",
     "text": [
      "No of students added so far is: 1\n",
      "Target not yet achieved\n",
      "No of students added so far is: 2\n",
      "Target not yet achieved\n",
      "No of students added so far is: 3\n",
      "Target acheived\n"
     ]
    }
   ],
   "source": [
    "class mse:\n",
    "    \n",
    "    students_count=0 #Class attr accesible by all the instances\n",
    "    \n",
    "    def __init__(self, name, age):\n",
    "        self.name = name\n",
    "        self.age = age\n",
    "        mse.students_count+=1\n",
    "           \n",
    "    def disp(self): #Instance method--> used to access atrr specific to an instance\n",
    "        print(f\"Name is {self.name} and age is {self.age}\")\n",
    "    \n",
    "    @classmethod\n",
    "    def count_students(cls): #Class method--> used to access class attr\n",
    "        print(f\"No of students added so far is: {cls.students_count}\")\n",
    "    \n",
    "    @staticmethod\n",
    "    def check_target_attained():\n",
    "        if mse.students_count<3:\n",
    "            print(\"Target not yet achieved\")\n",
    "        else:\n",
    "            print(\"Target acheived\")\n",
    "\n",
    "obj1=mse(\"domu\",30)\n",
    "obj1.count_students()\n",
    "obj1.check_target_attained()\n",
    "\n",
    "obj2=mse(\"frandi\",26)\n",
    "obj2.count_students()\n",
    "obj2.check_target_attained()\n",
    "\n",
    "obj3=mse(\"Chris\",26)\n",
    "obj3.count_students()\n",
    "obj3.check_target_attained()"
   ]
  },
  {
   "cell_type": "code",
   "execution_count": null,
   "id": "fb4c625c",
   "metadata": {},
   "outputs": [],
   "source": []
  },
  {
   "cell_type": "code",
   "execution_count": null,
   "id": "303dceab",
   "metadata": {},
   "outputs": [],
   "source": []
  },
  {
   "cell_type": "code",
   "execution_count": null,
   "id": "cf143f45",
   "metadata": {},
   "outputs": [],
   "source": []
  },
  {
   "cell_type": "code",
   "execution_count": null,
   "id": "5eae5e49",
   "metadata": {},
   "outputs": [],
   "source": []
  }
 ],
 "metadata": {
  "kernelspec": {
   "display_name": "Python 3 (ipykernel)",
   "language": "python",
   "name": "python3"
  },
  "language_info": {
   "codemirror_mode": {
    "name": "ipython",
    "version": 3
   },
   "file_extension": ".py",
   "mimetype": "text/x-python",
   "name": "python",
   "nbconvert_exporter": "python",
   "pygments_lexer": "ipython3",
   "version": "3.9.12"
  }
 },
 "nbformat": 4,
 "nbformat_minor": 5
}

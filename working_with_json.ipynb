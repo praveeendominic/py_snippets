{
  "nbformat": 4,
  "nbformat_minor": 0,
  "metadata": {
    "colab": {
      "provenance": []
    },
    "kernelspec": {
      "name": "python3",
      "display_name": "Python 3"
    },
    "language_info": {
      "name": "python"
    }
  },
  "cells": [
    {
      "cell_type": "code",
      "execution_count": 13,
      "metadata": {
        "colab": {
          "base_uri": "https://localhost:8080/"
        },
        "id": "kLQh-OXwxu6K",
        "outputId": "77b6c8b7-6f38-48bf-e452-8e9893e92700"
      },
      "outputs": [
        {
          "output_type": "stream",
          "name": "stdout",
          "text": [
            "{'dom': {'name': 'dominic', 'age': 30}, 'franc': {'name': 'francis', 'age': 27}}\n",
            "/bin/bash: line 0: cd: too many arguments\n",
            "<class 'dict'>\n",
            "<class 'str'>\n",
            "{'dom': {'name': 'dominic', 'age': 30}, 'franc': {'name': 'francis', 'age': 27}}\n",
            "<class 'dict'>\n"
          ]
        }
      ],
      "source": [
        "#create an address book\n",
        "book={}\n",
        "\n",
        "book['dom'] = {\n",
        "    'name': \"dominic\",\n",
        "    'age': 30\n",
        "}\n",
        "\n",
        "book['franc'] = {\n",
        "    'name':'francis',\n",
        "    'age': 27\n",
        "}\n",
        "\n",
        "print(book)\n",
        "\n",
        "!cd /content/drive/MyDrive/Deep learning/py_scripts\n",
        "\n",
        "import json\n",
        "book_json=json.dumps(book) #serialize to a json formatted string\n",
        "\n",
        "print(type(book))\n",
        "print(type(book_json))\n",
        "\n",
        "#Write json dumped string (address book) to a file\n",
        "with open('/content/drive/MyDrive/Deep learning/py_scripts/addressbook.txt','w') as f_w:\n",
        "  f_w.write(book_json)\n",
        "\n",
        "# Read the addressbook from the file\n",
        "with open('/content/drive/MyDrive/Deep learning/py_scripts/addressbook.txt','r') as f_r:\n",
        "  content=f_r.read()\n",
        "  c=json.loads(content) #deserialze back to dict\n",
        "  print(c)\n",
        "  print(type(c))\n",
        "\n",
        "\n"
      ]
    },
    {
      "cell_type": "code",
      "source": [],
      "metadata": {
        "colab": {
          "base_uri": "https://localhost:8080/"
        },
        "id": "kx9HQKJFyCvU",
        "outputId": "ee572b60-93c5-4a79-915f-71da90ed907e"
      },
      "execution_count": 5,
      "outputs": [
        {
          "output_type": "stream",
          "name": "stdout",
          "text": [
            "/bin/bash: line 0: cd: too many arguments\n"
          ]
        }
      ]
    },
    {
      "cell_type": "code",
      "source": [],
      "metadata": {
        "id": "eWsdXue2yjsg"
      },
      "execution_count": null,
      "outputs": []
    }
  ]
}